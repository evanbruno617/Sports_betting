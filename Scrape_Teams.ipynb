{
 "cells": [
  {
   "cell_type": "code",
   "execution_count": 45,
   "id": "abcf16af",
   "metadata": {},
   "outputs": [],
   "source": [
    "import pandas as pd\n",
    "from splinter import Browser\n",
    "from bs4 import BeautifulSoup as soup\n",
    "import pandas as pd\n",
    "import datetime as dt\n",
    "from webdriver_manager.chrome import ChromeDriverManager\n",
    "import time\n",
    "import numpy as np\n",
    "import os\n",
    "import random"
   ]
  },
  {
   "cell_type": "code",
   "execution_count": 46,
   "id": "de01c3b5",
   "metadata": {},
   "outputs": [
    {
     "name": "stderr",
     "output_type": "stream",
     "text": [
      "\n",
      "\n",
      "====== WebDriver manager ======\n",
      "Current google-chrome version is 103.0.5060\n",
      "Get LATEST chromedriver version for 103.0.5060 google-chrome\n",
      "Trying to download new driver from https://chromedriver.storage.googleapis.com/103.0.5060.134/chromedriver_mac64.zip\n",
      "Driver has been saved in cache [/Users/evanbruno/.wdm/drivers/chromedriver/mac64/103.0.5060.134]\n"
     ]
    }
   ],
   "source": [
    "executable_path = {'executable_path': ChromeDriverManager().install()}\n",
    "browser = Browser('chrome', **executable_path, headless=False)"
   ]
  },
  {
   "cell_type": "code",
   "execution_count": 47,
   "id": "f4d5453d",
   "metadata": {},
   "outputs": [],
   "source": [
    "url = 'https://www.baseball-reference.com/teams/'\n",
    "browser.visit(url)\n",
    "time.sleep(5)"
   ]
  },
  {
   "cell_type": "code",
   "execution_count": 111,
   "id": "c962bbc4",
   "metadata": {},
   "outputs": [],
   "source": [
    "html = browser.html\n",
    "test = soup(html, 'html.parser')"
   ]
  },
  {
   "cell_type": "code",
   "execution_count": 101,
   "id": "f36e91c8",
   "metadata": {},
   "outputs": [],
   "source": [
    "href = []\n",
    "for i in test.find(id=\"div_teams_active\").find_all(\"tr\")[1:]:\n",
    "    if i.find(\"td\") is None:\n",
    "        pass\n",
    "    elif i.find(\"td\").get(\"class\") is None:\n",
    "        pass\n",
    "    elif i.find(\"td\").get(\"class\")[0] == \"left\":\n",
    "        href.append(i.find(\"td\").find(\"a\").get(\"href\"))\n",
    "        pass\n",
    "    elif i.get(\"class\")[0] == \"thead\":\n",
    "        print(\"True\")\n",
    "        pass"
   ]
  },
  {
   "cell_type": "code",
   "execution_count": 109,
   "id": "649d43b6",
   "metadata": {},
   "outputs": [],
   "source": [
    "url = \"https://www.baseball-reference.com/\""
   ]
  },
  {
   "cell_type": "code",
   "execution_count": 110,
   "id": "217db22a",
   "metadata": {},
   "outputs": [],
   "source": [
    "browser.visit(f\"{url}{href[0]}\")"
   ]
  },
  {
   "cell_type": "code",
   "execution_count": 139,
   "id": "95c4943d",
   "metadata": {},
   "outputs": [],
   "source": [
    "href_year = test.find(id=\"div_franchise_years\").find(\"tbody\").find_all(\"th\")[0].find(\"a\").get(\"href\")"
   ]
  },
  {
   "cell_type": "code",
   "execution_count": 140,
   "id": "a276534c",
   "metadata": {},
   "outputs": [
    {
     "data": {
      "text/plain": [
       "'/teams/SFG/2022.shtml'"
      ]
     },
     "execution_count": 140,
     "metadata": {},
     "output_type": "execute_result"
    }
   ],
   "source": [
    "href_year"
   ]
  },
  {
   "cell_type": "code",
   "execution_count": 141,
   "id": "5861bbee",
   "metadata": {},
   "outputs": [
    {
     "data": {
      "text/plain": [
       "['/teams/ARI/',\n",
       " '/teams/ATL/',\n",
       " '/teams/BAL/',\n",
       " '/teams/BOS/',\n",
       " '/teams/CHC/',\n",
       " '/teams/CHW/',\n",
       " '/teams/CIN/',\n",
       " '/teams/CLE/',\n",
       " '/teams/COL/',\n",
       " '/teams/DET/',\n",
       " '/teams/HOU/',\n",
       " '/teams/KCR/',\n",
       " '/teams/ANA/',\n",
       " '/teams/LAD/',\n",
       " '/teams/FLA/',\n",
       " '/teams/MIL/',\n",
       " '/teams/MIN/',\n",
       " '/teams/NYM/',\n",
       " '/teams/NYY/',\n",
       " '/teams/OAK/',\n",
       " '/teams/PHI/',\n",
       " '/teams/PIT/',\n",
       " '/teams/SDP/',\n",
       " '/teams/SFG/',\n",
       " '/teams/SEA/',\n",
       " '/teams/STL/',\n",
       " '/teams/TBD/',\n",
       " '/teams/TEX/',\n",
       " '/teams/TOR/',\n",
       " '/teams/WSN/']"
      ]
     },
     "execution_count": 141,
     "metadata": {},
     "output_type": "execute_result"
    }
   ],
   "source": [
    "href"
   ]
  },
  {
   "cell_type": "code",
   "execution_count": 142,
   "id": "1608a894",
   "metadata": {},
   "outputs": [],
   "source": [
    "browser.visit(f\"{url}{href_year}\")"
   ]
  },
  {
   "cell_type": "code",
   "execution_count": 143,
   "id": "a3d9985d",
   "metadata": {},
   "outputs": [],
   "source": [
    "html = browser.html\n",
    "page = soup(html, 'html.parser')"
   ]
  },
  {
   "cell_type": "code",
   "execution_count": 153,
   "id": "acadee35",
   "metadata": {},
   "outputs": [],
   "source": [
    "year = page.find(id=\"div_team_batting\").find(\"tfoot\").find(\"tr\").find_all(\"td\")"
   ]
  },
  {
   "cell_type": "code",
   "execution_count": 161,
   "id": "d545e719",
   "metadata": {},
   "outputs": [],
   "source": [
    "stats = {}\n",
    "stats[\"Giants\"] = []"
   ]
  },
  {
   "cell_type": "code",
   "execution_count": 162,
   "id": "e4c2b6b4",
   "metadata": {},
   "outputs": [],
   "source": [
    "for i in year[2:]:\n",
    "    stats[\"Giants\"].append(i.get_text())"
   ]
  },
  {
   "cell_type": "code",
   "execution_count": 163,
   "id": "3d8bd298",
   "metadata": {},
   "outputs": [
    {
     "data": {
      "text/plain": [
       "{'Giants': ['30.5',\n",
       "  '93',\n",
       "  '3533',\n",
       "  '3096',\n",
       "  '444',\n",
       "  '733',\n",
       "  '149',\n",
       "  '10',\n",
       "  '113',\n",
       "  '426',\n",
       "  '43',\n",
       "  '10',\n",
       "  '348',\n",
       "  '807',\n",
       "  '.237',\n",
       "  '.321',\n",
       "  '.401',\n",
       "  '.722',\n",
       "  '103',\n",
       "  '1241',\n",
       "  '66',\n",
       "  '53',\n",
       "  '1',\n",
       "  '35',\n",
       "  '10']}"
      ]
     },
     "execution_count": 163,
     "metadata": {},
     "output_type": "execute_result"
    }
   ],
   "source": [
    "stats"
   ]
  },
  {
   "cell_type": "code",
   "execution_count": null,
   "id": "5a50cac0",
   "metadata": {},
   "outputs": [],
   "source": []
  },
  {
   "cell_type": "code",
   "execution_count": 164,
   "id": "3360d97a",
   "metadata": {},
   "outputs": [],
   "source": [
    "browser.quit()"
   ]
  },
  {
   "cell_type": "code",
   "execution_count": null,
   "id": "3a11f91c",
   "metadata": {},
   "outputs": [],
   "source": []
  }
 ],
 "metadata": {
  "kernelspec": {
   "display_name": "PythonData",
   "language": "python",
   "name": "pythondata"
  },
  "language_info": {
   "codemirror_mode": {
    "name": "ipython",
    "version": 3
   },
   "file_extension": ".py",
   "mimetype": "text/x-python",
   "name": "python",
   "nbconvert_exporter": "python",
   "pygments_lexer": "ipython3",
   "version": "3.9.7"
  }
 },
 "nbformat": 4,
 "nbformat_minor": 5
}
