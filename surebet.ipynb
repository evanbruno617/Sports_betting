{
 "cells": [
  {
   "cell_type": "code",
   "execution_count": 1,
   "id": "0cc5f89f",
   "metadata": {},
   "outputs": [],
   "source": [
    "from sympy import symbols, Eq, solve\n",
    "def beat_bookies(odds1, odds2, total_stake):\n",
    "    x, y = symbols('x y')\n",
    "    eq1 = Eq(x + y - total_stake, 0) # total_stake = x + y\n",
    "    eq2 = Eq((odds2*y) - odds1*x, 0) # odds1*x = odds2*y\n",
    "    stakes = solve((eq1,eq2), (x, y))\n",
    "    total_investment = stakes[x] + stakes[y]\n",
    "    profit1 = odds1*stakes[x] - total_stake\n",
    "    profit2 = odds2*stakes[y] - total_stake\n",
    "    benefit1 = f'{profit1 / total_investment * 100:.2f}%'\n",
    "    benefit2 = f'{profit2 / total_investment * 100:.2f}%'\n",
    "    dict_gabmling = {'Stake1':stakes[x], 'Stake2':stakes[y], 'Profit1':profit1, 'Profit2':profit2,\n",
    "                    'Benefit1': benefit1, 'Benefit2': benefit2}\n",
    "    return dict_gabmling"
   ]
  },
  {
   "cell_type": "code",
   "execution_count": null,
   "id": "0942dd56",
   "metadata": {},
   "outputs": [],
   "source": [
    "# Cant complete until 21 to bet"
   ]
  },
  {
   "cell_type": "code",
   "execution_count": 4,
   "id": "bd372156",
   "metadata": {},
   "outputs": [
    {
     "data": {
      "text/plain": [
       "{'Stake1': 48.7804878048780,\n",
       " 'Stake2': 51.2195121951220,\n",
       " 'Profit1': 2.43902439024392,\n",
       " 'Profit2': 2.43902439024390,\n",
       " 'Benefit1': '2.44%',\n",
       " 'Benefit2': '2.44%'}"
      ]
     },
     "execution_count": 4,
     "metadata": {},
     "output_type": "execute_result"
    }
   ],
   "source": [
    "odds1 = 2.1\n",
    "odds2 = 2\n",
    "total_stake = 100\n",
    "\n",
    "x, y = symbols('x y')\n",
    "eq1 = Eq(x + y - total_stake, 0) # total_stake = x + y\n",
    "eq2 = Eq((odds2*y) - odds1*x, 0) # odds1*x = odds2*y\n",
    "stakes = solve((eq1,eq2), (x, y))\n",
    "total_investment = stakes[x] + stakes[y]\n",
    "profit1 = odds1*stakes[x] - total_stake\n",
    "profit2 = odds2*stakes[y] - total_stake\n",
    "benefit1 = f'{profit1 / total_investment * 100:.2f}%'\n",
    "benefit2 = f'{profit2 / total_investment * 100:.2f}%'\n",
    "dict_gabmling = {'Stake1':stakes[x], 'Stake2':stakes[y], 'Profit1':profit1, 'Profit2':profit2,\n",
    "                'Benefit1': benefit1, 'Benefit2': benefit2}\n",
    "\n",
    "dict_gabmling"
   ]
  },
  {
   "cell_type": "code",
   "execution_count": 5,
   "id": "e3094ba3",
   "metadata": {},
   "outputs": [
    {
     "data": {
      "text/plain": [
       "sympy.core.relational.Equality"
      ]
     },
     "execution_count": 5,
     "metadata": {},
     "output_type": "execute_result"
    }
   ],
   "source": [
    "Eq"
   ]
  }
 ],
 "metadata": {
  "kernelspec": {
   "display_name": "PythonData",
   "language": "python",
   "name": "pythondata"
  },
  "language_info": {
   "codemirror_mode": {
    "name": "ipython",
    "version": 3
   },
   "file_extension": ".py",
   "mimetype": "text/x-python",
   "name": "python",
   "nbconvert_exporter": "python",
   "pygments_lexer": "ipython3",
   "version": "3.9.7"
  }
 },
 "nbformat": 4,
 "nbformat_minor": 5
}
