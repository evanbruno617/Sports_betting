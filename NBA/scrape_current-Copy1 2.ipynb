{
 "cells": [
  {
   "cell_type": "code",
   "execution_count": 1,
   "id": "4dfa0ac4",
   "metadata": {},
   "outputs": [],
   "source": [
    "# import dependencies \n",
    "import pandas as pd\n",
    "from splinter import Browser\n",
    "from bs4 import BeautifulSoup as soup\n",
    "import pandas as pd\n",
    "import datetime as dt\n",
    "from webdriver_manager.chrome import ChromeDriverManager\n",
    "import time\n",
    "import numpy as np\n",
    "import random\n",
    "import os"
   ]
  },
  {
   "cell_type": "code",
   "execution_count": 2,
   "id": "a9d5dbff",
   "metadata": {},
   "outputs": [
    {
     "name": "stderr",
     "output_type": "stream",
     "text": [
      "\n",
      "\n",
      "====== WebDriver manager ======\n",
      "Driver [/Users/evanbruno/.wdm/drivers/chromedriver/mac64/114.0.5735.90/chromedriver] found in cache\n"
     ]
    }
   ],
   "source": [
    "# Install and launch the Chrome browser\n",
    "executable_path = {'executable_path': ChromeDriverManager(version=\"114.0.5735.90\").install()}\n",
    "\n",
    "\n",
    "browser = Browser('chrome', **executable_path, headless=False)"
   ]
  },
  {
   "cell_type": "code",
   "execution_count": 3,
   "id": "d8d252bd",
   "metadata": {},
   "outputs": [],
   "source": [
    "# visit nba page \n",
    "url = 'https://www.nba.com/stats/teams/boxscores/'\n",
    "browser.visit(url)"
   ]
  },
  {
   "cell_type": "code",
   "execution_count": 4,
   "id": "359ab36b",
   "metadata": {},
   "outputs": [],
   "source": [
    "# visit nba page \n",
    "url = 'https://www.nba.com/stats/teams/boxscores/?Season=2022-23'\n",
    "browser.visit(url)"
   ]
  },
  {
   "cell_type": "code",
   "execution_count": null,
   "id": "c6f773d3",
   "metadata": {},
   "outputs": [],
   "source": [
    "url = 'https://www.nba.com/stats/teams/boxscores?SeasonType=Pre+Season'\n",
    "browser.visit(url)"
   ]
  },
  {
   "cell_type": "code",
   "execution_count": null,
   "id": "30e1f88e",
   "metadata": {},
   "outputs": [],
   "source": [
    "# url used for entering each games data\n",
    "revise_url = \"https://www.nba.com/game/\""
   ]
  },
  {
   "cell_type": "code",
   "execution_count": 6,
   "id": "e309df12",
   "metadata": {},
   "outputs": [],
   "source": [
    "html = browser.html\n",
    "test = soup(html, 'html.parser')"
   ]
  },
  {
   "cell_type": "code",
   "execution_count": 50,
   "id": "3ed9a503",
   "metadata": {},
   "outputs": [],
   "source": [
    "browser.find_by_xpath('//*[@id=\"__next\"]/div[2]/div[2]/div[3]/section[1]/div/div/div[1]/label/div/select').click()\n",
    "browser.find_by_text(select).click()"
   ]
  },
  {
   "cell_type": "code",
   "execution_count": 49,
   "id": "02960cb2",
   "metadata": {},
   "outputs": [],
   "source": [
    "year = 2023\n",
    "prev = 2022\n",
    "\n",
    "select = f'{prev}-{str(year)[2:]}'"
   ]
  },
  {
   "cell_type": "code",
   "execution_count": null,
   "id": "9e490d7c",
   "metadata": {},
   "outputs": [],
   "source": [
    "browser.find_by_text(select).click()"
   ]
  },
  {
   "cell_type": "code",
   "execution_count": 50,
   "id": "9dfbadc6",
   "metadata": {},
   "outputs": [],
   "source": [
    "dates = []\n",
    "teams = []\n",
    "\n",
    "for i in games:\n",
    "    for j in games[i]:\n",
    "        dates.append(i)\n",
    "        teams.append(j)"
   ]
  },
  {
   "cell_type": "code",
   "execution_count": null,
   "id": "e339ac09",
   "metadata": {},
   "outputs": [],
   "source": []
  },
  {
   "cell_type": "code",
   "execution_count": 6,
   "id": "ce17a69d",
   "metadata": {},
   "outputs": [],
   "source": [
    "current_df = pd.DataFrame(columns=['Dates'])\n",
    "\n",
    "current_df.to_csv('current.csv')"
   ]
  },
  {
   "cell_type": "code",
   "execution_count": 9,
   "id": "53a49e02",
   "metadata": {},
   "outputs": [
    {
     "data": {
      "text/plain": [
       "[]"
      ]
     },
     "execution_count": 9,
     "metadata": {},
     "output_type": "execute_result"
    }
   ],
   "source": [
    "current = pd.read_csv('current.csv')['Dates'].tolist()"
   ]
  },
  {
   "cell_type": "code",
   "execution_count": 10,
   "id": "981c11f2",
   "metadata": {},
   "outputs": [
    {
     "name": "stderr",
     "output_type": "stream",
     "text": [
      "\n",
      "KeyboardInterrupt\n",
      "\n"
     ]
    }
   ],
   "source": [
    "columns = ['Opp', 'Result', 'Min','PTS', 'FGM', 'FGA', 'FG%', '3PM', '3PA', '3P%', 'FTM', 'FTA', 'FT%', 'OREB', 'DREB','REB', 'AST', 'STL', 'BLK', 'TOV', 'PF', '+/-']\n",
    "\n",
    "year = 2004\n",
    "prev = 2003\n",
    "\n",
    "select = f'{prev}-{str(year)[2:]}'\n",
    "\n",
    "\n",
    "teams = {}\n",
    "\n",
    "#sleep\n",
    "time.sleep(random.randint(2, 5))\n",
    "\n",
    "html = browser.html\n",
    "test = soup(html, 'html.parser')\n",
    "\n",
    "end = int(test.find(class_='Crom_cromSettings__ak6Hd').find_all('option')[-1].get_text()) + 1\n",
    "\n",
    "for pages in range(2, end):\n",
    "\n",
    "    #sleep\n",
    "    time.sleep(random.randint(2, 5))\n",
    "\n",
    "    html = browser.html\n",
    "    test = soup(html, 'html.parser')\n",
    "\n",
    "    for i in test.find(class_='Crom_body__UYOcU').find_all('tr'):\n",
    "\n",
    "        team = i.find('td').get_text()\n",
    "\n",
    "        if team not in teams:\n",
    "            teams[team] = {}\n",
    "\n",
    "        opp = i.find_all('td')[1].get_text().split(' ')[-1]\n",
    "\n",
    "        date = i.find_all('td')[2].get_text()\n",
    "\n",
    "        teams[team][date] = [opp]\n",
    "\n",
    "        for j in i.find_all('td')[3:]:\n",
    "            teams[team][date].append(j.get_text())\n",
    "\n",
    "    browser.find_option_by_text(f'{pages}').first.click()\n",
    "\n",
    "\n",
    "for team in teams:\n",
    "\n",
    "    data = pd.DataFrame.from_dict(teams[team], orient='index', columns=columns)\n",
    "\n",
    "    # convert dataframe to csv\n",
    "    mypath = f\"Current/{team}\"\n",
    "    if not os.path.isdir(mypath):\n",
    "        os.makedirs(mypath)\n",
    "\n",
    "    data.to_csv(f\"{mypath}/{year}.csv\", index=True)"
   ]
  },
  {
   "cell_type": "code",
   "execution_count": null,
   "id": "0e25a43d",
   "metadata": {},
   "outputs": [],
   "source": []
  }
 ],
 "metadata": {
  "kernelspec": {
   "display_name": "PythonData",
   "language": "python",
   "name": "pythondata"
  },
  "language_info": {
   "codemirror_mode": {
    "name": "ipython",
    "version": 3
   },
   "file_extension": ".py",
   "mimetype": "text/x-python",
   "name": "python",
   "nbconvert_exporter": "python",
   "pygments_lexer": "ipython3",
   "version": "3.9.7"
  }
 },
 "nbformat": 4,
 "nbformat_minor": 5
}
