{
 "cells": [
  {
   "cell_type": "code",
   "execution_count": 7,
   "id": "a9ba1c9a",
   "metadata": {},
   "outputs": [],
   "source": [
    "import pandas as pd\n",
    "from splinter import Browser\n",
    "from bs4 import BeautifulSoup as soup\n",
    "import pandas as pd\n",
    "import datetime as dt\n",
    "from webdriver_manager.chrome import ChromeDriverManager\n",
    "import time\n",
    "import numpy as np\n",
    "import os\n",
    "import random"
   ]
  },
  {
   "cell_type": "code",
   "execution_count": 8,
   "id": "7c3ec437",
   "metadata": {},
   "outputs": [
    {
     "name": "stderr",
     "output_type": "stream",
     "text": [
      "\n",
      "\n",
      "====== WebDriver manager ======\n",
      "Current google-chrome version is 103.0.5060\n",
      "Get LATEST chromedriver version for 103.0.5060 google-chrome\n",
      "Driver [/Users/evanbruno/.wdm/drivers/chromedriver/mac64/103.0.5060.53/chromedriver] found in cache\n"
     ]
    }
   ],
   "source": [
    "executable_path = {'executable_path': ChromeDriverManager().install()}\n",
    "browser = Browser('chrome', **executable_path, headless=False)"
   ]
  },
  {
   "cell_type": "code",
   "execution_count": 9,
   "id": "885b563f",
   "metadata": {},
   "outputs": [],
   "source": [
    "url = 'https://www.nfl.com/stats/player-stats/category/passing/2021/reg/all/passingyards/desc'\n",
    "browser.visit(url)\n",
    "time.sleep(10)"
   ]
  },
  {
   "cell_type": "code",
   "execution_count": 10,
   "id": "6b60533f",
   "metadata": {},
   "outputs": [],
   "source": [
    "browser.find_by_id(\"onesignal-slidedown-cancel-button\").click()"
   ]
  },
  {
   "cell_type": "code",
   "execution_count": 11,
   "id": "fdd0474a",
   "metadata": {},
   "outputs": [],
   "source": [
    "html = browser.html\n",
    "test = soup(html, 'html.parser')"
   ]
  },
  {
   "cell_type": "code",
   "execution_count": 12,
   "id": "da25e1d6",
   "metadata": {},
   "outputs": [],
   "source": [
    "links=[]\n",
    "for i in range(11):\n",
    "    links.append(test.find_all(class_=\"d3-o-tabs d3-o-tabs__nowrap\")[0].find_all(\"li\")[i].get_text())"
   ]
  },
  {
   "cell_type": "code",
   "execution_count": 13,
   "id": "5f112956",
   "metadata": {},
   "outputs": [],
   "source": [
    "data = len(test.find_all(\"th\"))"
   ]
  },
  {
   "cell_type": "code",
   "execution_count": 14,
   "id": "f15801e6",
   "metadata": {},
   "outputs": [],
   "source": [
    "years = [\"2021\", \"2020\", \"2019\", \"2018\", \"2017\"]"
   ]
  },
  {
   "cell_type": "code",
   "execution_count": 15,
   "id": "e6c4b7dc",
   "metadata": {},
   "outputs": [
    {
     "name": "stdout",
     "output_type": "stream",
     "text": [
      "checkpoint\n",
      "Passing\n",
      "Rushing\n",
      "Receiving\n",
      "Fumbles\n",
      "Tackles\n",
      "Interceptions\n",
      "Field Goals\n",
      "Kickoffs\n",
      "Kickoff Returns\n",
      "Punting\n",
      "Punt Returns\n",
      "checkpoint\n",
      "Passing\n",
      "Rushing\n",
      "Receiving\n",
      "Fumbles\n",
      "Tackles\n",
      "Interceptions\n",
      "Field Goals\n",
      "Kickoffs\n",
      "Kickoff Returns\n",
      "Punting\n",
      "Punt Returns\n",
      "checkpoint\n",
      "Passing\n",
      "Rushing\n",
      "Receiving\n",
      "Fumbles\n",
      "Tackles\n",
      "Interceptions\n",
      "Field Goals\n",
      "Kickoffs\n",
      "Kickoff Returns\n",
      "Punting\n",
      "Punt Returns\n",
      "checkpoint\n",
      "Passing\n",
      "Rushing\n",
      "Receiving\n",
      "Fumbles\n",
      "Tackles\n",
      "Interceptions\n",
      "Field Goals\n",
      "Kickoffs\n",
      "Kickoff Returns\n",
      "Punting\n",
      "Punt Returns\n",
      "checkpoint\n",
      "Passing\n",
      "Rushing\n",
      "Receiving\n",
      "Fumbles\n",
      "Tackles\n",
      "Interceptions\n",
      "Field Goals\n",
      "Kickoffs\n",
      "Kickoff Returns\n",
      "Punting\n",
      "Punt Returns\n"
     ]
    }
   ],
   "source": [
    "for year in years:\n",
    "    browser.find_by_text(year).click()\n",
    "    time.sleep(3)\n",
    "    print(\"checkpoint\")\n",
    "    for i in links:\n",
    "        html = browser.html\n",
    "        test = soup(html, 'html.parser')\n",
    "        print(i)\n",
    "        browser.find_by_text(i).click()\n",
    "        time.sleep(5)\n",
    "        stats = {}\n",
    "        for i in range(1):\n",
    "            html = browser.html\n",
    "            test = soup(html, 'html.parser')\n",
    "            data = len(test.find_all(\"th\"))\n",
    "            href = test.find_all(\"a\")[-66].get('href')\n",
    "            row = len(test.find_all(\"tr\"))\n",
    "            for s in range(1, row):\n",
    "                for t in range(data):\n",
    "                    if t == 0:\n",
    "                        name  = test.find_all(\"tr\")[s].find_all(\"td\")[0].get_text()\n",
    "                        stats[name] = []\n",
    "                    else:\n",
    "                        stats[name].append(test.find_all(\"tr\")[s].find_all(\"td\")[t].get_text())\n",
    "            browser.visit(f\"https://www.nfl.com{href}\")\n",
    "            time.sleep(5)\n",
    "        mypath = year\n",
    "        if not os.path.isdir(mypath):\n",
    "            os.makedirs(mypath)\n",
    "        column = []\n",
    "        for w in test.find_all(\"tr\")[0]:\n",
    "            if w.get_text() == \"Player\":\n",
    "                pass\n",
    "            else:\n",
    "                column.append(w.get_text())\n",
    "\n",
    "        Data = pd.DataFrame.from_dict(stats, orient=\"index\", columns=column)\n",
    "        Data.to_csv(f\"{mypath}/{i}.csv\", index=False)\n",
    "\n"
   ]
  },
  {
   "cell_type": "code",
   "execution_count": 247,
   "id": "9e59ce74",
   "metadata": {},
   "outputs": [],
   "source": [
    "browser.find_by_text(\"2021\").click()"
   ]
  },
  {
   "cell_type": "code",
   "execution_count": 16,
   "id": "27e69ac6",
   "metadata": {},
   "outputs": [],
   "source": [
    "browser.quit()"
   ]
  },
  {
   "cell_type": "code",
   "execution_count": null,
   "id": "d2c08cc0",
   "metadata": {},
   "outputs": [],
   "source": []
  }
 ],
 "metadata": {
  "kernelspec": {
   "display_name": "PythonData",
   "language": "python",
   "name": "pythondata"
  },
  "language_info": {
   "codemirror_mode": {
    "name": "ipython",
    "version": 3
   },
   "file_extension": ".py",
   "mimetype": "text/x-python",
   "name": "python",
   "nbconvert_exporter": "python",
   "pygments_lexer": "ipython3",
   "version": "3.9.7"
  }
 },
 "nbformat": 4,
 "nbformat_minor": 5
}
