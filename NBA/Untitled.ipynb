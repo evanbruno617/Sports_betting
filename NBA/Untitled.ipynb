{
 "cells": [
  {
   "cell_type": "code",
   "execution_count": 2,
   "id": "8775578a",
   "metadata": {},
   "outputs": [],
   "source": [
    "import pandas as pd\n",
    "import math"
   ]
  },
  {
   "cell_type": "code",
   "execution_count": null,
   "id": "91998b73",
   "metadata": {},
   "outputs": [],
   "source": [
    "1"
   ]
  },
  {
   "cell_type": "code",
   "execution_count": 6,
   "id": "56ca14e0",
   "metadata": {},
   "outputs": [
    {
     "data": {
      "text/plain": [
       "0.16192528723697386"
      ]
     },
     "execution_count": 6,
     "metadata": {},
     "output_type": "execute_result"
    }
   ],
   "source": [
    "(1.1745 ** (1/12) - 1) * 12"
   ]
  },
  {
   "cell_type": "code",
   "execution_count": 7,
   "id": "3b41f63d",
   "metadata": {},
   "outputs": [
    {
     "data": {
      "text/plain": [
       "0.014541666666666666"
      ]
     },
     "execution_count": 7,
     "metadata": {},
     "output_type": "execute_result"
    }
   ],
   "source": [
    ".1745 / 12"
   ]
  },
  {
   "cell_type": "code",
   "execution_count": 8,
   "id": "08fcc8fa",
   "metadata": {},
   "outputs": [
    {
     "ename": "SyntaxError",
     "evalue": "cannot assign to literal (1921012924.py, line 1)",
     "output_type": "error",
     "traceback": [
      "\u001b[0;36m  Input \u001b[0;32mIn [8]\u001b[0;36m\u001b[0m\n\u001b[0;31m    10000 = C / 0.014541666666666666 (1 + 1 / 1.014541666666666666) ** 36\u001b[0m\n\u001b[0m    ^\u001b[0m\n\u001b[0;31mSyntaxError\u001b[0m\u001b[0;31m:\u001b[0m cannot assign to literal\n"
     ]
    }
   ],
   "source": [
    "10000 = C / 0.014541666666666666 (1 + 1 / 1.014541666666666666) ** 36"
   ]
  },
  {
   "cell_type": "code",
   "execution_count": 14,
   "id": "0fb945f0",
   "metadata": {},
   "outputs": [
    {
     "data": {
      "text/plain": [
       "0.015375"
      ]
     },
     "execution_count": 14,
     "metadata": {},
     "output_type": "execute_result"
    }
   ],
   "source": [
    ".1845 / 12"
   ]
  },
  {
   "cell_type": "code",
   "execution_count": 25,
   "id": "c0a59523",
   "metadata": {},
   "outputs": [
    {
     "data": {
      "text/plain": [
       "0.009433333333333334"
      ]
     },
     "execution_count": 25,
     "metadata": {},
     "output_type": "execute_result"
    }
   ],
   "source": [
    "0.1132 / 12"
   ]
  },
  {
   "cell_type": "code",
   "execution_count": 27,
   "id": "932d386d",
   "metadata": {},
   "outputs": [
    {
     "name": "stderr",
     "output_type": "stream",
     "text": [
      "<>:1: SyntaxWarning: 'float' object is not callable; perhaps you missed a comma?\n",
      "<>:1: SyntaxWarning: 'float' object is not callable; perhaps you missed a comma?\n",
      "/var/folders/g3/164q6cz52jv0sjllnsg7jdsm0000gn/T/ipykernel_33818/1565754614.py:1: SyntaxWarning: 'float' object is not callable; perhaps you missed a comma?\n",
      "  500 * 0.009433 (1 - (1 / 1.009433) ** 36)\n",
      "/var/folders/g3/164q6cz52jv0sjllnsg7jdsm0000gn/T/ipykernel_33818/1565754614.py:1: SyntaxWarning: 'float' object is not callable; perhaps you missed a comma?\n",
      "  500 * 0.009433 (1 - (1 / 1.009433) ** 36)\n",
      "/var/folders/g3/164q6cz52jv0sjllnsg7jdsm0000gn/T/ipykernel_33818/1565754614.py:1: SyntaxWarning: 'float' object is not callable; perhaps you missed a comma?\n",
      "  500 * 0.009433 (1 - (1 / 1.009433) ** 36)\n"
     ]
    },
    {
     "ename": "TypeError",
     "evalue": "'float' object is not callable",
     "output_type": "error",
     "traceback": [
      "\u001b[0;31m---------------------------------------------------------------------------\u001b[0m",
      "\u001b[0;31mTypeError\u001b[0m                                 Traceback (most recent call last)",
      "Input \u001b[0;32mIn [27]\u001b[0m, in \u001b[0;36m<cell line: 1>\u001b[0;34m()\u001b[0m\n\u001b[0;32m----> 1\u001b[0m \u001b[38;5;241m500\u001b[39m \u001b[38;5;241m*\u001b[39m \u001b[38;5;241;43m0.009433\u001b[39;49m\u001b[43m \u001b[49m\u001b[43m(\u001b[49m\u001b[38;5;241;43m1\u001b[39;49m\u001b[43m \u001b[49m\u001b[38;5;241;43m-\u001b[39;49m\u001b[43m \u001b[49m\u001b[43m(\u001b[49m\u001b[38;5;241;43m1\u001b[39;49m\u001b[43m \u001b[49m\u001b[38;5;241;43m/\u001b[39;49m\u001b[43m \u001b[49m\u001b[38;5;241;43m1.009433\u001b[39;49m\u001b[43m)\u001b[49m\u001b[43m \u001b[49m\u001b[38;5;241;43m*\u001b[39;49m\u001b[38;5;241;43m*\u001b[39;49m\u001b[43m \u001b[49m\u001b[38;5;241;43m36\u001b[39;49m\u001b[43m)\u001b[49m\n",
      "\u001b[0;31mTypeError\u001b[0m: 'float' object is not callable"
     ]
    }
   ],
   "source": [
    "500 * 0.014541666666666666/ (1 - (1 / 1.014541666666666666) ** 36)"
   ]
  },
  {
   "cell_type": "code",
   "execution_count": 24,
   "id": "f0521770",
   "metadata": {},
   "outputs": [
    {
     "data": {
      "text/plain": [
       "2493.2759740986176"
      ]
     },
     "execution_count": 24,
     "metadata": {},
     "output_type": "execute_result"
    }
   ],
   "source": [
    "57.81737177997937 / 0.014541666666666666/ (1 + (1 / 1.014541666666666666) ** 36)"
   ]
  }
 ],
 "metadata": {
  "kernelspec": {
   "display_name": "PythonData",
   "language": "python",
   "name": "pythondata"
  },
  "language_info": {
   "codemirror_mode": {
    "name": "ipython",
    "version": 3
   },
   "file_extension": ".py",
   "mimetype": "text/x-python",
   "name": "python",
   "nbconvert_exporter": "python",
   "pygments_lexer": "ipython3",
   "version": "3.9.7"
  }
 },
 "nbformat": 4,
 "nbformat_minor": 5
}
