{
 "cells": [
  {
   "cell_type": "code",
   "execution_count": 4,
   "id": "6578f627",
   "metadata": {},
   "outputs": [],
   "source": [
    "# import dependencies \n",
    "import pandas as pd\n",
    "from splinter import Browser\n",
    "from bs4 import BeautifulSoup as soup\n",
    "import pandas as pd\n",
    "import datetime as dt\n",
    "from webdriver_manager.chrome import ChromeDriverManager\n",
    "import time\n",
    "import numpy as np\n",
    "import os\n",
    "import random\n",
    "import time"
   ]
  },
  {
   "cell_type": "code",
   "execution_count": 2,
   "id": "4521c790",
   "metadata": {},
   "outputs": [
    {
     "name": "stderr",
     "output_type": "stream",
     "text": [
      "\n",
      "\n",
      "====== WebDriver manager ======\n",
      "Current google-chrome version is 104.0.5112\n",
      "Get LATEST chromedriver version for 104.0.5112 google-chrome\n",
      "Trying to download new driver from https://chromedriver.storage.googleapis.com/104.0.5112.79/chromedriver_mac64.zip\n",
      "Driver has been saved in cache [/Users/evanbruno/.wdm/drivers/chromedriver/mac64/104.0.5112.79]\n"
     ]
    }
   ],
   "source": [
    "# open browser\n",
    "executable_path = {'executable_path': ChromeDriverManager().install()}\n",
    "browser = Browser('chrome', **executable_path, headless=False)"
   ]
  },
  {
   "cell_type": "code",
   "execution_count": 3,
   "id": "fab7ad25",
   "metadata": {},
   "outputs": [],
   "source": [
    "# visit nba page \n",
    "url = 'https://www.teamrankings.com/nba/stat/defensive-efficiency'\n",
    "browser.visit(url)"
   ]
  },
  {
   "cell_type": "code",
   "execution_count": 5,
   "id": "79e56c0d",
   "metadata": {},
   "outputs": [],
   "source": [
    "html = browser.html\n",
    "test = soup(html, 'html.parser')"
   ]
  },
  {
   "cell_type": "code",
   "execution_count": 29,
   "id": "377900dc",
   "metadata": {},
   "outputs": [
    {
     "name": "stdout",
     "output_type": "stream",
     "text": [
      "Date (YYYY/MM/DD)2022-06-17\n"
     ]
    }
   ],
   "source": [
    "#input date\n",
    "date = input(\"Date (YYYY-MM-DD)\")"
   ]
  },
  {
   "cell_type": "code",
   "execution_count": 16,
   "id": "73b8f910",
   "metadata": {},
   "outputs": [],
   "source": [
    "#select date\n",
    "browser.find_by_name(\"date\").select(date)"
   ]
  },
  {
   "cell_type": "code",
   "execution_count": 25,
   "id": "723a203b",
   "metadata": {},
   "outputs": [],
   "source": [
    "# find the headers of the table\n",
    "headers = []\n",
    "for header in test.find(id=\"DataTables_Table_0\").find_all(\"th\")[2:]:\n",
    "    headers.append(header.get_text())"
   ]
  },
  {
   "cell_type": "code",
   "execution_count": 22,
   "id": "31501d88",
   "metadata": {},
   "outputs": [],
   "source": [
    "#iterate through rows to obtain defensive data\n",
    "data = {}\n",
    "for row in test.find(\"tbody\").find_all(\"tr\"):\n",
    "    team = row.find(class_=\"text-left nowrap\").get_text()\n",
    "    data[team] = []\n",
    "    for td in row.find_all(\"td\")[2:]:\n",
    "        data[team].append(td.get_text())"
   ]
  },
  {
   "cell_type": "code",
   "execution_count": 23,
   "id": "4b006313",
   "metadata": {},
   "outputs": [
    {
     "data": {
      "text/plain": [
       "{'Boston': ['1.036', '1.064', '1.054', '1.035', '1.036', '1.097'],\n",
       " 'Golden State': ['1.042', '0.952', '0.921', '1.012', '1.075', '1.068'],\n",
       " 'Memphis': ['1.052', '0.977', '1.069', '1.034', '1.069', '1.083'],\n",
       " 'Miami': ['1.052', '1.015', '0.991', '1.051', '1.053', '1.083'],\n",
       " 'Phoenix': ['1.053', '1.115', '1.328', '1.048', '1.059', '1.079'],\n",
       " 'Cleveland': ['1.065', '1.113', '1.135', '1.045', '1.085', '1.110'],\n",
       " 'LA Clippers': ['1.069', '1.020', '1.111', '1.059', '1.080', '1.089'],\n",
       " 'New York': ['1.070', '0.986', '0.931', '1.073', '1.066', '1.051'],\n",
       " 'Dallas': ['1.070', '1.190', '1.273', '1.039', '1.099', '1.103'],\n",
       " 'Utah': ['1.073', '1.067', '1.055', '1.057', '1.089', '1.068'],\n",
       " 'Toronto': ['1.074', '1.099', '1.398', '1.073', '1.075', '1.089'],\n",
       " 'Milwaukee': ['1.075', '1.093', '1.078', '1.068', '1.081', '1.075'],\n",
       " 'Philadelphia': ['1.076', '1.110', '1.028', '1.069', '1.082', '1.045'],\n",
       " 'Minnesota': ['1.080', '1.076', '1.130', '1.041', '1.119', '1.113'],\n",
       " 'San Antonio': ['1.090', '1.150', '1.145', '1.104', '1.075', '1.095'],\n",
       " 'Orlando': ['1.092', '1.146', '1.092', '1.092', '1.092', '1.113'],\n",
       " 'Brooklyn': ['1.093', '1.172', '1.165', '1.092', '1.094', '1.098'],\n",
       " 'Okla City': ['1.095', '1.317', '1.374', '1.092', '1.097', '1.110'],\n",
       " 'Denver': ['1.095', '1.127', '1.064', '1.109', '1.082', '1.100'],\n",
       " 'New Orleans': ['1.097', '1.146', '1.213', '1.096', '1.097', '1.104'],\n",
       " 'LA Lakers': ['1.100', '1.118', '1.193', '1.075', '1.126', '1.042'],\n",
       " 'Detroit': ['1.101', '1.237', '1.170', '1.079', '1.122', '1.092'],\n",
       " 'Chicago': ['1.102', '1.126', '1.091', '1.103', '1.101', '1.090'],\n",
       " 'Charlotte': ['1.105', '1.173', '1.241', '1.080', '1.129', '1.098'],\n",
       " 'Washington': ['1.111', '1.189', '1.210', '1.104', '1.118', '1.100'],\n",
       " 'Atlanta': ['1.112', '1.099', '1.004', '1.104', '1.120', '1.094'],\n",
       " 'Sacramento': ['1.119', '1.149', '1.056', '1.111', '1.127', '1.138'],\n",
       " 'Indiana': ['1.124', '1.253', '1.247', '1.122', '1.126', '1.091'],\n",
       " 'Houston': ['1.131', '1.187', '1.307', '1.132', '1.130', '1.116'],\n",
       " 'Portland': ['1.132', '1.234', '1.100', '1.116', '1.149', '1.129']}"
      ]
     },
     "execution_count": 23,
     "metadata": {},
     "output_type": "execute_result"
    }
   ],
   "source": [
    "data"
   ]
  },
  {
   "cell_type": "code",
   "execution_count": 27,
   "id": "096bcbdd",
   "metadata": {},
   "outputs": [
    {
     "data": {
      "text/html": [
       "<div>\n",
       "<style scoped>\n",
       "    .dataframe tbody tr th:only-of-type {\n",
       "        vertical-align: middle;\n",
       "    }\n",
       "\n",
       "    .dataframe tbody tr th {\n",
       "        vertical-align: top;\n",
       "    }\n",
       "\n",
       "    .dataframe thead th {\n",
       "        text-align: right;\n",
       "    }\n",
       "</style>\n",
       "<table border=\"1\" class=\"dataframe\">\n",
       "  <thead>\n",
       "    <tr style=\"text-align: right;\">\n",
       "      <th></th>\n",
       "      <th>2021</th>\n",
       "      <th>Last 3</th>\n",
       "      <th>Last 1</th>\n",
       "      <th>Home</th>\n",
       "      <th>Away</th>\n",
       "      <th>2020</th>\n",
       "    </tr>\n",
       "  </thead>\n",
       "  <tbody>\n",
       "    <tr>\n",
       "      <th>Boston</th>\n",
       "      <td>1.036</td>\n",
       "      <td>1.064</td>\n",
       "      <td>1.054</td>\n",
       "      <td>1.035</td>\n",
       "      <td>1.036</td>\n",
       "      <td>1.097</td>\n",
       "    </tr>\n",
       "    <tr>\n",
       "      <th>Golden State</th>\n",
       "      <td>1.042</td>\n",
       "      <td>0.952</td>\n",
       "      <td>0.921</td>\n",
       "      <td>1.012</td>\n",
       "      <td>1.075</td>\n",
       "      <td>1.068</td>\n",
       "    </tr>\n",
       "    <tr>\n",
       "      <th>Memphis</th>\n",
       "      <td>1.052</td>\n",
       "      <td>0.977</td>\n",
       "      <td>1.069</td>\n",
       "      <td>1.034</td>\n",
       "      <td>1.069</td>\n",
       "      <td>1.083</td>\n",
       "    </tr>\n",
       "    <tr>\n",
       "      <th>Miami</th>\n",
       "      <td>1.052</td>\n",
       "      <td>1.015</td>\n",
       "      <td>0.991</td>\n",
       "      <td>1.051</td>\n",
       "      <td>1.053</td>\n",
       "      <td>1.083</td>\n",
       "    </tr>\n",
       "    <tr>\n",
       "      <th>Phoenix</th>\n",
       "      <td>1.053</td>\n",
       "      <td>1.115</td>\n",
       "      <td>1.328</td>\n",
       "      <td>1.048</td>\n",
       "      <td>1.059</td>\n",
       "      <td>1.079</td>\n",
       "    </tr>\n",
       "  </tbody>\n",
       "</table>\n",
       "</div>"
      ],
      "text/plain": [
       "               2021 Last 3 Last 1   Home   Away   2020\n",
       "Boston        1.036  1.064  1.054  1.035  1.036  1.097\n",
       "Golden State  1.042  0.952  0.921  1.012  1.075  1.068\n",
       "Memphis       1.052  0.977  1.069  1.034  1.069  1.083\n",
       "Miami         1.052  1.015  0.991  1.051  1.053  1.083\n",
       "Phoenix       1.053  1.115  1.328  1.048  1.059  1.079"
      ]
     },
     "execution_count": 27,
     "metadata": {},
     "output_type": "execute_result"
    }
   ],
   "source": [
    "#convert data to dataframe\n",
    "data_df = pd.DataFrame.from_dict(data, orient=\"index\", columns=headers)\n",
    "data_df.head()"
   ]
  },
  {
   "cell_type": "code",
   "execution_count": 28,
   "id": "33942460",
   "metadata": {},
   "outputs": [],
   "source": [
    "#export as csv\n",
    "data_df.to_csv(\"Team_defensive_efficency.csv\")"
   ]
  },
  {
   "cell_type": "code",
   "execution_count": 30,
   "id": "14b03c9a",
   "metadata": {},
   "outputs": [],
   "source": [
    "#quit\n",
    "browser.quit()"
   ]
  }
 ],
 "metadata": {
  "kernelspec": {
   "display_name": "PythonData",
   "language": "python",
   "name": "pythondata"
  },
  "language_info": {
   "codemirror_mode": {
    "name": "ipython",
    "version": 3
   },
   "file_extension": ".py",
   "mimetype": "text/x-python",
   "name": "python",
   "nbconvert_exporter": "python",
   "pygments_lexer": "ipython3",
   "version": "3.9.7"
  }
 },
 "nbformat": 4,
 "nbformat_minor": 5
}
