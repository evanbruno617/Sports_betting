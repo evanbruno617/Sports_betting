{
 "cells": [
  {
   "cell_type": "code",
   "execution_count": 33,
   "id": "368aeb4a",
   "metadata": {},
   "outputs": [],
   "source": [
    "import pandas as pd\n",
    "from matplotlib import pyplot as plt\n",
    "from sklearn.linear_model import LinearRegression\n",
    "import os\n",
    "import datetime\n",
    "from numpy import hstack, vstack\n",
    "from numpy import array\n",
    "from sklearn.linear_model import SGDClassifier as SGD\n",
    "import numpy as np\n",
    "import statistics\n",
    "import math\n",
    "import scipy.stats"
   ]
  },
  {
   "cell_type": "code",
   "execution_count": 45,
   "id": "f6515693",
   "metadata": {},
   "outputs": [],
   "source": [
    "#obtain list of dates\n",
    "directory = \"Historical/Golden State Warriors\"\n",
    "list_dates = []\n",
    "for filename in os.listdir(directory):\n",
    "    if filename.endswith(\".csv\"):\n",
    "        list_dates.append(filename)"
   ]
  },
  {
   "cell_type": "code",
   "execution_count": 4,
   "id": "e67fe766",
   "metadata": {},
   "outputs": [],
   "source": [
    "testing = pd.DataFrame()\n",
    "\n",
    "for l in list_dates[-10:]:\n",
    "    data = pd.read_csv(f'{directory}/{l}')\n",
    "    \n",
    "    testing = pd.concat([testing, data])\n",
    "    \n",
    "players = testing['Unnamed: 0'].unique().tolist()   "
   ]
  },
  {
   "cell_type": "markdown",
   "id": "b97e3238",
   "metadata": {},
   "source": [
    "# Choose player and stat"
   ]
  },
  {
   "cell_type": "code",
   "execution_count": 26,
   "id": "dfc8c695",
   "metadata": {},
   "outputs": [
    {
     "name": "stdout",
     "output_type": "stream",
     "text": [
      "PlayerStephen Curry\n",
      "Stat3PM\n"
     ]
    }
   ],
   "source": [
    "player = input('Player')\n",
    "\n",
    "stat = input('Stat')\n",
    "\n",
    "\n",
    "player_stat = testing.loc[testing['Unnamed: 0'] == player][stat]\n",
    "\n",
    "player_dict = {player: { '10': 0, '25': 0, '50': 0, '75': 0, '90': 0}}\n",
    "\n",
    "player_dict[player]['10'] = np.percentile(player_stat, 10)\n",
    "\n",
    "player_dict[player]['25'] = np.percentile(player_stat, 25)\n",
    "\n",
    "player_dict[player]['50'] = np.percentile(player_stat, 50)\n",
    "\n",
    "player_dict[player]['75'] = np.percentile(player_stat, 75)\n",
    "\n",
    "player_dict[player]['90'] = np.percentile(player_stat, 90)\n"
   ]
  },
  {
   "cell_type": "code",
   "execution_count": 27,
   "id": "2e0cb46a",
   "metadata": {},
   "outputs": [
    {
     "data": {
      "text/html": [
       "<div>\n",
       "<style scoped>\n",
       "    .dataframe tbody tr th:only-of-type {\n",
       "        vertical-align: middle;\n",
       "    }\n",
       "\n",
       "    .dataframe tbody tr th {\n",
       "        vertical-align: top;\n",
       "    }\n",
       "\n",
       "    .dataframe thead th {\n",
       "        text-align: right;\n",
       "    }\n",
       "</style>\n",
       "<table border=\"1\" class=\"dataframe\">\n",
       "  <thead>\n",
       "    <tr style=\"text-align: right;\">\n",
       "      <th></th>\n",
       "      <th>Stephen Curry</th>\n",
       "    </tr>\n",
       "  </thead>\n",
       "  <tbody>\n",
       "    <tr>\n",
       "      <th>10</th>\n",
       "      <td>1.0</td>\n",
       "    </tr>\n",
       "    <tr>\n",
       "      <th>25</th>\n",
       "      <td>2.0</td>\n",
       "    </tr>\n",
       "    <tr>\n",
       "      <th>50</th>\n",
       "      <td>3.0</td>\n",
       "    </tr>\n",
       "    <tr>\n",
       "      <th>75</th>\n",
       "      <td>4.0</td>\n",
       "    </tr>\n",
       "    <tr>\n",
       "      <th>90</th>\n",
       "      <td>7.4</td>\n",
       "    </tr>\n",
       "  </tbody>\n",
       "</table>\n",
       "</div>"
      ],
      "text/plain": [
       "    Stephen Curry\n",
       "10            1.0\n",
       "25            2.0\n",
       "50            3.0\n",
       "75            4.0\n",
       "90            7.4"
      ]
     },
     "execution_count": 27,
     "metadata": {},
     "output_type": "execute_result"
    }
   ],
   "source": [
    "pd.DataFrame.from_dict(player_dict, orient='columns')"
   ]
  },
  {
   "cell_type": "code",
   "execution_count": 40,
   "id": "59dc4f81",
   "metadata": {},
   "outputs": [
    {
     "name": "stdout",
     "output_type": "stream",
     "text": [
      "Bet3\n"
     ]
    }
   ],
   "source": [
    "# Chosen bet\n",
    "\n",
    "bet = float(input('Bet'))\n",
    "\n",
    "ttest = (bet - statistics.mean(player_stat)) * math.sqrt(len(player_stat)) / statistics.stdev(player_stat)"
   ]
  },
  {
   "cell_type": "code",
   "execution_count": 39,
   "id": "f4a12c50",
   "metadata": {},
   "outputs": [
    {
     "name": "stdout",
     "output_type": "stream",
     "text": [
      "Chance performs higher is 0.5802314346873639 and lower is 0.41976856531263607\n"
     ]
    }
   ],
   "source": [
    "\n",
    "\n",
    "chance_lower = scipy.stats.norm(statistics.mean(player_stat), statistics.stdev(player_stat)).cdf(3)\n",
    "\n",
    "chance_higher = 1 - scipy.stats.norm(statistics.mean(player_stat), statistics.stdev(player_stat)).cdf(3)\n",
    "\n",
    "print(f'Chance performs higher is {chance_higher} and lower is {chance_lower}')"
   ]
  },
  {
   "cell_type": "code",
   "execution_count": 44,
   "id": "e056e199",
   "metadata": {},
   "outputs": [
    {
     "name": "stdout",
     "output_type": "stream",
     "text": [
      "Chance performs higher is 0.7198046302880553 and lower is 0.2801953697119447\n"
     ]
    }
   ],
   "source": [
    "\n",
    "\n",
    "chance_lower = scipy.stats.t.cdf(ttest, len(player_stat) - 1)\n",
    "\n",
    "chance_higher = 1 - scipy.stats.t.cdf(ttest, len(player_stat) - 1)\n",
    "\n",
    "print(f'Chance performs higher is {chance_higher} and lower is {chance_lower}')"
   ]
  }
 ],
 "metadata": {
  "kernelspec": {
   "display_name": "PythonData",
   "language": "python",
   "name": "pythondata"
  },
  "language_info": {
   "codemirror_mode": {
    "name": "ipython",
    "version": 3
   },
   "file_extension": ".py",
   "mimetype": "text/x-python",
   "name": "python",
   "nbconvert_exporter": "python",
   "pygments_lexer": "ipython3",
   "version": "3.9.7"
  }
 },
 "nbformat": 4,
 "nbformat_minor": 5
}
